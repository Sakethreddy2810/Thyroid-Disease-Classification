{
  "nbformat": 4,
  "nbformat_minor": 0,
  "metadata": {
    "colab": {
      "provenance": [],
      "authorship_tag": "ABX9TyN/gqHtbPF/XBMcZ2VciCAi",
      "include_colab_link": true
    },
    "kernelspec": {
      "name": "python3",
      "display_name": "Python 3"
    },
    "language_info": {
      "name": "python"
    }
  },
  "cells": [
    {
      "cell_type": "markdown",
      "metadata": {
        "id": "view-in-github",
        "colab_type": "text"
      },
      "source": [
        "<a href=\"https://colab.research.google.com/github/Sakethreddy2810/Thyroid-Disease-Classification/blob/main/sample.ipynb\" target=\"_parent\"><img src=\"https://colab.research.google.com/assets/colab-badge.svg\" alt=\"Open In Colab\"/></a>"
      ]
    },
    {
      "cell_type": "code",
      "execution_count": null,
      "metadata": {
        "colab": {
          "base_uri": "https://localhost:8080/"
        },
        "id": "x4nGE1nkXpMM",
        "outputId": "0f69a0ba-46ed-4f33-d02f-596ca445549a"
      },
      "outputs": [
        {
          "output_type": "stream",
          "name": "stderr",
          "text": [
            "[nltk_data] Downloading package punkt to /root/nltk_data...\n",
            "[nltk_data]   Package punkt is already up-to-date!\n",
            "[nltk_data] Downloading package wordnet to /root/nltk_data...\n",
            "[nltk_data]   Package wordnet is already up-to-date!\n",
            "[nltk_data] Downloading package omw-1.4 to /root/nltk_data...\n",
            "[nltk_data]   Package omw-1.4 is already up-to-date!\n",
            "[nltk_data] Downloading package punkt_tab to /root/nltk_data...\n",
            "[nltk_data]   Unzipping tokenizers/punkt_tab.zip.\n"
          ]
        },
        {
          "output_type": "stream",
          "name": "stdout",
          "text": [
            "Original Text:\n",
            " The children are playing with the toys and have been running in the garden\n",
            "\n",
            "Lemmatized Words:\n",
            " ['The', 'child', 'are', 'playing', 'with', 'the', 'toy', 'and', 'have', 'been', 'running', 'in', 'the', 'garden']\n"
          ]
        }
      ],
      "source": [
        "import nltk\n",
        "from nltk.stem import WordNetLemmatizer\n",
        "from nltk.tokenize import word_tokenize\n",
        "nltk.download('punkt')\n",
        "nltk.download('wordnet')\n",
        "nltk.download('omw-1.4')\n",
        "nltk.download('punkt_tab') # Added this line to download the missing resource\n",
        "lemmatizer = WordNetLemmatizer()\n",
        "text = \"The children are playing with the toys and have been running in the garden\"\n",
        "tokens = word_tokenize(text)\n",
        "\n",
        "# Lemmatize each token\n",
        "lemmatized_words = [lemmatizer.lemmatize(word) for word in tokens]\n",
        "\n",
        "# Print results\n",
        "print(\"Original Text:\\n\", text)\n",
        "print(\"\\nLemmatized Words:\\n\", lemmatized_words)"
      ]
    },
    {
      "cell_type": "code",
      "source": [
        "import nltk\n",
        "from nltk.stem import WordNetLemmatizer\n",
        "from nltk.tokenize import word_tokenize\n",
        "nltk.download('punkt')\n",
        "nltk.download('wordnet')\n",
        "nltk.download('omw-1.4')\n",
        "nltk.download('punkt_tab') # Added this line to download the missing resource\n",
        "lemmatizer = WordNetLemmatizer()\n",
        "text = \"He was running too fast\"\n",
        "tokens = word_tokenize(text)\n",
        "\n",
        "# Lemmatize each token\n",
        "lemmatized_words = [lemmatizer.lemmatize(word) for word in tokens]\n",
        "\n",
        "# Print results\n",
        "print(\"Original Text:\\n\", text)\n",
        "print(\"\\nLemmatized Words:\\n\", lemmatized_words)"
      ],
      "metadata": {
        "colab": {
          "base_uri": "https://localhost:8080/"
        },
        "id": "iWVU6KJnYW2r",
        "outputId": "120bd250-2755-4576-cea5-d054e5f9cab7"
      },
      "execution_count": null,
      "outputs": [
        {
          "output_type": "stream",
          "name": "stdout",
          "text": [
            "Original Text:\n",
            " He was running too fast\n",
            "\n",
            "Lemmatized Words:\n",
            " ['He', 'wa', 'running', 'too', 'fast']\n"
          ]
        },
        {
          "output_type": "stream",
          "name": "stderr",
          "text": [
            "[nltk_data] Downloading package punkt to /root/nltk_data...\n",
            "[nltk_data]   Package punkt is already up-to-date!\n",
            "[nltk_data] Downloading package wordnet to /root/nltk_data...\n",
            "[nltk_data]   Package wordnet is already up-to-date!\n",
            "[nltk_data] Downloading package omw-1.4 to /root/nltk_data...\n",
            "[nltk_data]   Package omw-1.4 is already up-to-date!\n",
            "[nltk_data] Downloading package punkt_tab to /root/nltk_data...\n",
            "[nltk_data]   Package punkt_tab is already up-to-date!\n"
          ]
        }
      ]
    },
    {
      "cell_type": "code",
      "source": [
        "import nltk\n",
        "from nltk import word_tokenize, pos_tag\n",
        "nltk.download(\"punkt\")\n",
        "nltk.download(\"averaged_perceptron_tagger\")\n",
        "\n",
        "def pos_tag_sentence(sentence):\n",
        "    tokens = word_tokenize(sentence)\n",
        "    tagged = pos_tag(tokens)\n",
        "    print(\"\\nPOS Tags:\")\n",
        "    for word, tag in tagged:\n",
        "        print(f\"{word:15} -> {tag}\")\n",
        "\n",
        "if __name__ == \"__main__\":\n",
        "    sentence = input(\"Enter a sentence for POS tagging:\\n> \")\n",
        "    pos_tag_sentence(sentence)"
      ],
      "metadata": {
        "colab": {
          "base_uri": "https://localhost:8080/"
        },
        "id": "MWBBlnO2Z-x6",
        "outputId": "f611ad9d-0557-4679-dee6-a12b47cdf5e1"
      },
      "execution_count": null,
      "outputs": [
        {
          "output_type": "stream",
          "name": "stderr",
          "text": [
            "[nltk_data] Downloading package punkt to /root/nltk_data...\n",
            "[nltk_data]   Package punkt is already up-to-date!\n",
            "[nltk_data] Downloading package averaged_perceptron_tagger to\n",
            "[nltk_data]     /root/nltk_data...\n",
            "[nltk_data]   Package averaged_perceptron_tagger is already up-to-\n",
            "[nltk_data]       date!\n",
            "[nltk_data] Downloading package averaged_perceptron_tagger_eng to\n",
            "[nltk_data]     /root/nltk_data...\n",
            "[nltk_data]   Unzipping taggers/averaged_perceptron_tagger_eng.zip.\n"
          ]
        },
        {
          "output_type": "stream",
          "name": "stdout",
          "text": [
            "Enter a sentence for POS tagging:\n",
            "> He is playing cricket\n",
            "\n",
            "POS Tags:\n",
            "He              -> PRP\n",
            "is              -> VBZ\n",
            "playing         -> VBG\n",
            "cricket         -> NN\n"
          ]
        }
      ]
    }
  ]
}